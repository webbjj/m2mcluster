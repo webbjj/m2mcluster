{
 "cells": [
  {
   "cell_type": "code",
   "execution_count": 1,
   "id": "5f2262e4-e893-4e1b-8943-6f7505260aa6",
   "metadata": {},
   "outputs": [],
   "source": [
    "import m2mcluster as m2m"
   ]
  },
  {
   "cell_type": "code",
   "execution_count": 2,
   "id": "06dc3043-4d24-4136-90e7-9d3c75474dbf",
   "metadata": {},
   "outputs": [],
   "source": [
    "from amuse.lab import *\n",
    "from amuse.units import nbody_system,units\n",
    "from amuse.community.bhtree.interface import BHTree\n",
    "\n",
    "import matplotlib.pyplot as plt\n",
    "import numpy as np\n"
   ]
  },
  {
   "cell_type": "code",
   "execution_count": 3,
   "id": "7d3f35c0-e083-47ba-99ee-105e5c8f10e1",
   "metadata": {},
   "outputs": [],
   "source": [
    "#Setup a star cluster for artificial observation\n",
    "ocluster=m2m.setup_star_cluster(N=1000, Mcluster = 1000 | units.MSun, Rcluster = 9. |units.parsec, W0=7.)\n",
    "\n",
    "#Measure artifical cluster's density profile asssuming an equal number of stars per bin\n",
    "orlower,orad,orupper,orho=m2m.density(ocluster,bins=True,bintype='num')"
   ]
  },
  {
   "cell_type": "code",
   "execution_count": 4,
   "id": "86e043fa-999c-43e2-b6ca-280bc94e7fcc",
   "metadata": {},
   "outputs": [],
   "source": [
    "#Initialize an M2M Star cluster\n",
    "#Specify number of iterations to run algorithm for\n",
    "#Specify number of workers to be used by Nbody code\n",
    "cluster=m2m.starcluster(number_of_iterations=100,number_of_workers=1)"
   ]
  },
  {
   "cell_type": "code",
   "execution_count": 5,
   "id": "0a2128ab-ab29-488a-9b64-8affa37e7743",
   "metadata": {},
   "outputs": [],
   "source": [
    "#Add the \"observed\" cluster density profile as an observable\n",
    "cluster.add_observable(orlower,orupper,orho,'density',2)"
   ]
  },
  {
   "cell_type": "code",
   "execution_count": 6,
   "id": "4d723a40-381e-47c8-ae4f-c6c901ddf14a",
   "metadata": {},
   "outputs": [
    {
     "data": {
      "text/plain": [
       "(<amuse.datamodel.particles.Particles at 0x13e7826a0>,\n",
       " <amuse.units.nbody_system.nbody_to_si at 0x13e80b0d0>)"
      ]
     },
     "execution_count": 6,
     "metadata": {},
     "output_type": "execute_result"
    }
   ],
   "source": [
    "#Initialize a model star cluster will an initial guess as the observed cluster's properties\n",
    "cluster.initialize_star_cluster(N=1000, Mcluster = 1000 | units.MSun, Rcluster = 3. |units.parsec, softening = 0.75 | units.parsec, W0=1.)"
   ]
  },
  {
   "cell_type": "code",
   "execution_count": 7,
   "id": "15c4e694-e745-48d6-add8-79cef14cf2e0",
   "metadata": {},
   "outputs": [],
   "source": [
    "#Plot initial positions\n",
    "cluster.xy_plot(filename='xyplot0.png')"
   ]
  },
  {
   "cell_type": "code",
   "execution_count": 8,
   "id": "6bbf9b0a-68ec-4edb-ae88-5dc24ee5bbe8",
   "metadata": {},
   "outputs": [],
   "source": [
    "#Compare initial density profiles\n",
    "cluster.rho_prof(filename='rhoplot0.png')"
   ]
  },
  {
   "cell_type": "code",
   "execution_count": 9,
   "id": "89c76d7e-fa43-4cef-9f3d-9bd23ebbd94c",
   "metadata": {},
   "outputs": [
    {
     "name": "stdout",
     "output_type": "stream",
     "text": [
      "0  TIME UNITS:  0.244963929474 Myr\n",
      "1  TIME UNITS:  0.230983366667 Myr\n",
      "2  TIME UNITS:  0.241817519836 Myr\n",
      "3  TIME UNITS:  0.25293838336 Myr\n",
      "4  TIME UNITS:  0.264216147323 Myr\n",
      "5  TIME UNITS:  0.277546785313 Myr\n",
      "6  TIME UNITS:  0.295200789153 Myr\n",
      "7  TIME UNITS:  0.316498248025 Myr\n",
      "8  TIME UNITS:  0.334885505361 Myr\n",
      "9  TIME UNITS:  0.359282437568 Myr\n",
      "10  TIME UNITS:  0.385239167949 Myr\n",
      "11  TIME UNITS:  0.414696306658 Myr\n",
      "12  TIME UNITS:  0.446038400303 Myr\n",
      "13  TIME UNITS:  0.4810430348 Myr\n",
      "14  TIME UNITS:  0.517044461388 Myr\n",
      "15  TIME UNITS:  0.549526836682 Myr\n",
      "16  TIME UNITS:  0.594922663424 Myr\n",
      "17  TIME UNITS:  0.644736901363 Myr\n",
      "18  TIME UNITS:  0.706493185734 Myr\n",
      "19  TIME UNITS:  0.774456541245 Myr\n",
      "20  TIME UNITS:  0.83596374553 Myr\n",
      "21  TIME UNITS:  0.945440970167 Myr\n",
      "22  TIME UNITS:  0.917567960582 Myr\n",
      "23  TIME UNITS:  1.00290212856 Myr\n",
      "24  TIME UNITS:  1.01314015729 Myr\n",
      "25  TIME UNITS:  1.1815245514 Myr\n",
      "26  TIME UNITS:  1.27455778488 Myr\n",
      "27  TIME UNITS:  1.54751402867 Myr\n",
      "28  TIME UNITS:  1.53328549394 Myr\n",
      "29  TIME UNITS:  1.73709311917 Myr\n",
      "30  TIME UNITS:  1.57146459106 Myr\n",
      "31  TIME UNITS:  1.83350398459 Myr\n",
      "32  TIME UNITS:  1.59663187964 Myr\n",
      "33  TIME UNITS:  2.1775478396 Myr\n",
      "34  TIME UNITS:  2.0450441405 Myr\n",
      "35  TIME UNITS:  2.13748901157 Myr\n",
      "36  TIME UNITS:  2.18596783705 Myr\n",
      "37  TIME UNITS:  1.62742271883 Myr\n",
      "38  TIME UNITS:  1.77541472628 Myr\n",
      "39  TIME UNITS:  1.74233628682 Myr\n",
      "40  TIME UNITS:  1.55109282823 Myr\n",
      "41  TIME UNITS:  1.70396316707 Myr\n",
      "42  TIME UNITS:  1.61490154128 Myr\n",
      "43  TIME UNITS:  1.65933702524 Myr\n",
      "44  TIME UNITS:  1.50323030505 Myr\n",
      "45  TIME UNITS:  1.38245714568 Myr\n",
      "46  TIME UNITS:  1.64694219414 Myr\n",
      "47  TIME UNITS:  1.27300601112 Myr\n",
      "48  TIME UNITS:  1.33661463684 Myr\n",
      "49  TIME UNITS:  1.2639194068 Myr\n",
      "50  TIME UNITS:  1.15961574447 Myr\n",
      "51  TIME UNITS:  1.27310332152 Myr\n",
      "52  TIME UNITS:  1.31530878843 Myr\n",
      "53  TIME UNITS:  1.16129736624 Myr\n",
      "54  TIME UNITS:  0.948501975533 Myr\n",
      "55  TIME UNITS:  0.908368830862 Myr\n",
      "56  TIME UNITS:  0.937271551484 Myr\n",
      "57  TIME UNITS:  0.782777404145 Myr\n",
      "58  TIME UNITS:  0.80831681747 Myr\n",
      "59  TIME UNITS:  0.814527719967 Myr\n",
      "60  TIME UNITS:  0.732453720681 Myr\n",
      "61  TIME UNITS:  0.729013020439 Myr\n",
      "62  TIME UNITS:  0.75715818461 Myr\n",
      "63  TIME UNITS:  0.592462230346 Myr\n",
      "64  TIME UNITS:  0.584873398915 Myr\n",
      "65  TIME UNITS:  0.573387191589 Myr\n",
      "66  TIME UNITS:  0.552265348377 Myr\n",
      "67  TIME UNITS:  0.528093674693 Myr\n",
      "68  TIME UNITS:  0.512430299835 Myr\n",
      "69  TIME UNITS:  0.482324936875 Myr\n",
      "70  TIME UNITS:  0.465221812448 Myr\n",
      "71  TIME UNITS:  0.452137407564 Myr\n",
      "72  TIME UNITS:  0.441191872973 Myr\n",
      "73  TIME UNITS:  0.433567053877 Myr\n",
      "74  TIME UNITS:  0.427113345352 Myr\n",
      "75  TIME UNITS:  0.419434731978 Myr\n",
      "76  TIME UNITS:  0.41410707659 Myr\n",
      "77  TIME UNITS:  0.410120126998 Myr\n",
      "78  TIME UNITS:  0.404291500301 Myr\n",
      "79  TIME UNITS:  0.397759306563 Myr\n",
      "80  TIME UNITS:  0.3977591004 Myr\n",
      "81  TIME UNITS:  0.398962938482 Myr\n",
      "82  TIME UNITS:  0.391475400491 Myr\n",
      "83  TIME UNITS:  0.390174963518 Myr\n",
      "84  TIME UNITS:  0.389024557513 Myr\n",
      "85  TIME UNITS:  0.386450723995 Myr\n",
      "86  TIME UNITS:  0.381610106401 Myr\n",
      "87  TIME UNITS:  0.391378549455 Myr\n",
      "88  TIME UNITS:  0.394018815642 Myr\n",
      "89  TIME UNITS:  0.40416694791 Myr\n",
      "90  TIME UNITS:  0.413707007681 Myr\n",
      "91  TIME UNITS:  0.420396524543 Myr\n",
      "92  TIME UNITS:  0.429195710426 Myr\n",
      "93  TIME UNITS:  0.429195144212 Myr\n",
      "94  TIME UNITS:  0.448068451647 Myr\n",
      "95  TIME UNITS:  0.467314946428 Myr\n",
      "96  TIME UNITS:  0.491937261644 Myr\n",
      "97  TIME UNITS:  0.514190012739 Myr\n",
      "98  TIME UNITS:  0.541208432646 Myr\n",
      "99  TIME UNITS:  0.580931014476 Myr\n"
     ]
    }
   ],
   "source": [
    "#Exectute the made to measure algorithm\n",
    "outfile=open('logfile','w')\n",
    "for i in range(0,cluster.number_of_iterations):\n",
    "    #Initialize a new N-body simulation ever time step. \n",
    "    #In this example I use 1% of the cluster's dynamical time for the integration timeste\n",
    "    cluster.initialize_gravity_code('BHTree', dt=0.01*cluster.tdyn)\n",
    "    #Evolve the model cluster forward for 10% of its dynamical time\n",
    "    cluster.evolve(tend=0.1*cluster.tdyn)\n",
    "    #Run the M2M algorithm, which will adjust all of the stellar masses based on kernel function\n",
    "    cluster.evaluate(kernel=None,m2mepsilon=1.0e-3,plot=False)\n",
    "    #Compare the new model density profile to the observed one\n",
    "    cluster.rho_prof(filename='%s.png' % str(i).zfill(5))\n",
    "    #Centre the star cluster and find determine Nbody conversion scales for next integration\n",
    "    cluster.reinitialize_star_cluster()\n",
    "\n",
    "    outfile.write('%i %f\\n' % (i,cluster.criteria))\n",
    "outfile.close()"
   ]
  },
  {
   "cell_type": "code",
   "execution_count": null,
   "id": "46f93f02-4fec-448b-8588-07fb4654d3a9",
   "metadata": {},
   "outputs": [],
   "source": []
  },
  {
   "cell_type": "code",
   "execution_count": null,
   "id": "0fd9417b-e569-43b0-85a2-d8979595d812",
   "metadata": {},
   "outputs": [],
   "source": []
  },
  {
   "cell_type": "code",
   "execution_count": null,
   "id": "0f8fbd89-1b6d-407c-a7be-9eb8538beaa0",
   "metadata": {},
   "outputs": [],
   "source": []
  }
 ],
 "metadata": {
  "kernelspec": {
   "display_name": "Python 3",
   "language": "python",
   "name": "python3"
  },
  "language_info": {
   "codemirror_mode": {
    "name": "ipython",
    "version": 3
   },
   "file_extension": ".py",
   "mimetype": "text/x-python",
   "name": "python",
   "nbconvert_exporter": "python",
   "pygments_lexer": "ipython3",
   "version": "3.9.1"
  }
 },
 "nbformat": 4,
 "nbformat_minor": 5
}
