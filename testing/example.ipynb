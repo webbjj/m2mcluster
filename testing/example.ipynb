{
 "cells": [
  {
   "cell_type": "code",
   "execution_count": 1,
   "id": "5f2262e4-e893-4e1b-8943-6f7505260aa6",
   "metadata": {},
   "outputs": [],
   "source": [
    "import m2mcluster as m2m"
   ]
  },
  {
   "cell_type": "code",
   "execution_count": 2,
   "id": "06dc3043-4d24-4136-90e7-9d3c75474dbf",
   "metadata": {},
   "outputs": [],
   "source": [
    "from amuse.lab import *\n",
    "from amuse.units import nbody_system,units\n",
    "\n",
    "import matplotlib.pyplot as plt\n",
    "import numpy as np\n"
   ]
  },
  {
   "cell_type": "code",
   "execution_count": 3,
   "id": "53b00db7-73b2-4ef3-bc4d-54f221c858e6",
   "metadata": {},
   "outputs": [],
   "source": [
    "from amuse.community.hermite.interface import Hermite\n"
   ]
  },
  {
   "cell_type": "code",
   "execution_count": 4,
   "id": "e6b4d46f-39c2-461d-a12e-fd8e25e5d25c",
   "metadata": {},
   "outputs": [],
   "source": [
    "import time"
   ]
  },
  {
   "cell_type": "code",
   "execution_count": 5,
   "id": "cabf1572-487e-4a96-9d36-fcfd187ca84c",
   "metadata": {},
   "outputs": [],
   "source": [
    "N=1000\n",
    "Mcluster = 1000 | units.MSun\n",
    "Rcluster = 9. |units.parsec\n",
    "\n",
    "mmin=0.1 | units.MSun\n",
    "mmax=1.4 | units.MSun\n",
    "mtot = Mcluster\n",
    "\n",
    "niterations=10\n",
    "snapfreq=1\n",
    "\n",
    "timing=False\n",
    "doplots=True"
   ]
  },
  {
   "cell_type": "code",
   "execution_count": 6,
   "id": "dfb17b13-0774-40da-a425-d137d0df608e",
   "metadata": {},
   "outputs": [],
   "source": [
    "ocluster,oconverter=m2m.setup_star_cluster(N=N, Mcluster=Mcluster, Rcluster = Rcluster, W0=7.,imf='kroupa',mmin=mmin, mmax=mmax)\n"
   ]
  },
  {
   "cell_type": "code",
   "execution_count": 7,
   "id": "7d3f35c0-e083-47ba-99ee-105e5c8f10e1",
   "metadata": {
    "tags": []
   },
   "outputs": [
    {
     "name": "stdout",
     "output_type": "stream",
     "text": [
      "[  2.30324539e+00   4.53969792e-01   1.93310438e-01   5.84621227e-02\n",
      "   3.93510052e-02   1.82782508e-02   1.11635764e-02   5.68452017e-03\n",
      "   4.73364116e-03   1.46337721e-03   1.27617243e-03   1.10168649e-03\n",
      "   7.92101444e-04   1.87779610e-04   1.07146911e-04   1.11369048e-04\n",
      "   2.57822910e-05   1.35358870e-04   0.00000000e+00   3.26661508e-05]\n"
     ]
    }
   ],
   "source": [
    "#Setup a star cluster for artificial observation\n",
    "ocluster,oconverter=m2m.setup_star_cluster(N=N, Mcluster = Mcluster, Rcluster = Rcluster, W0=7.)\n",
    "\n",
    "#Measure artifical cluster's density profile asssuming an equal number of stars per bin\n",
    "orlower,orad,orupper,orho=m2m.density(ocluster,bins=True,bintype='fix')\n",
    "orlower[0]=0.\n",
    "print(orho)"
   ]
  },
  {
   "cell_type": "code",
   "execution_count": 8,
   "id": "26f354c8-be10-4dad-af94-cb78be9658e3",
   "metadata": {},
   "outputs": [],
   "source": [
    "while np.sum(orho==0.)!=0:\n",
    "    ocluster,oconverter=m2m.setup_star_cluster(N=N, Mcluster = Mcluster, Rcluster = Rcluster, W0=7.)\n",
    "    orlower,orad,orupper,orho=m2m.density(ocluster,bins=True,bintype='fix')\n",
    "    orlower[0]=0.\n"
   ]
  },
  {
   "cell_type": "code",
   "execution_count": 9,
   "id": "6c39e5d2-a4c6-4a4c-9af3-b51b9c92bee0",
   "metadata": {},
   "outputs": [],
   "source": [
    "sigv=m2m.velocity_dispersion(ocluster,rlower=orlower,rmid=orad,rupper=orupper)\n"
   ]
  },
  {
   "cell_type": "code",
   "execution_count": 10,
   "id": "86e043fa-999c-43e2-b6ca-280bc94e7fcc",
   "metadata": {},
   "outputs": [],
   "source": [
    "#Initialize an M2M Star cluster\n",
    "#Specify number of iterations to run algorithm for\n",
    "#Specify number of workers to be used by Nbody code\n",
    "cluster=m2m.starcluster(number_of_iterations=niterations,number_of_workers=1,debug=False)"
   ]
  },
  {
   "cell_type": "code",
   "execution_count": 11,
   "id": "0a2128ab-ab29-488a-9b64-8affa37e7743",
   "metadata": {},
   "outputs": [],
   "source": [
    "#Add the \"observed\" cluster density profile as an observable\n",
    "cluster.add_observable(orlower,orad,orupper,orho,'density',ndim=3)\n",
    "cluster.add_observable(orlower,orad,orupper,sigv,'velocity',ndim=3)"
   ]
  },
  {
   "cell_type": "code",
   "execution_count": 12,
   "id": "4d723a40-381e-47c8-ae4f-c6c901ddf14a",
   "metadata": {},
   "outputs": [
    {
     "data": {
      "text/plain": [
       "(<amuse.datamodel.particles.Particles at 0x136e8d910>,\n",
       " <amuse.units.nbody_system.nbody_to_si at 0x136f5a9a0>)"
      ]
     },
     "execution_count": 12,
     "metadata": {},
     "output_type": "execute_result"
    }
   ],
   "source": [
    "#Initialize a model star cluster will an initial guess as the observed cluster's properties\n",
    "cluster.initialize_star_cluster(N=N, Mcluster = Mcluster, Rcluster = Rcluster, softening = 0.01 | units.parsec, W0=1.,imf='single',mmin=1. | units.MSun)"
   ]
  },
  {
   "cell_type": "code",
   "execution_count": 13,
   "id": "cb5a9d19-28a8-4e11-a8ab-7781e49204bf",
   "metadata": {},
   "outputs": [],
   "source": [
    "cluster.writeout()\n",
    "cluster.snapout()"
   ]
  },
  {
   "cell_type": "code",
   "execution_count": 14,
   "id": "15c4e694-e745-48d6-add8-79cef14cf2e0",
   "metadata": {},
   "outputs": [],
   "source": [
    "if doplots: \n",
    "    #Plot initial positions\n",
    "    cluster.xy_plot(filename='xyplot0.png')\n",
    "    #Compare initial density profiles\n",
    "    cluster.rho_prof(filename='rhoplot0.png')\n",
    "    #Compare initial velocity dispersion profiles\n",
    "    if doplots: cluster.sigv_prof(filename='sigplot0.png')"
   ]
  },
  {
   "cell_type": "code",
   "execution_count": 15,
   "id": "6bbf9b0a-68ec-4edb-ae88-5dc24ee5bbe8",
   "metadata": {},
   "outputs": [],
   "source": [
    "#Compare initial density profiles\n",
    "if doplots: cluster.rho_prof(filename='rhoplot0.png')\n"
   ]
  },
  {
   "cell_type": "code",
   "execution_count": 16,
   "id": "f5a240c1-774a-490a-928d-9d915a032546",
   "metadata": {},
   "outputs": [],
   "source": [
    "if doplots: cluster.sigv_prof(filename='sigplot0.png')\n"
   ]
  },
  {
   "cell_type": "code",
   "execution_count": 17,
   "id": "89c76d7e-fa43-4cef-9f3d-9bd23ebbd94c",
   "metadata": {
    "tags": []
   },
   "outputs": [
    {
     "name": "stdout",
     "output_type": "stream",
     "text": [
      "initialize_gravity_code 0.507849931716919\n",
      "TIME UNITS:  1.27286991561 Myr 1000 1000.0 8.99984238189\n",
      "evolve 7.2470221519470215\n",
      "evaluate 0.06203484535217285\n",
      "writeout 0.004591941833496094\n",
      "rho_prof 0.48241400718688965\n",
      "reinitialize_star_cluster 0.12503600120544434\n",
      "snapout 0.009593725204467773\n",
      "initialize_gravity_code 0.23082494735717773\n",
      "TIME UNITS:  1.26422108541 Myr 1000 1000.0 8.95918520394\n",
      "evolve 9.037790060043335\n",
      "evaluate 0.06530094146728516\n",
      "writeout 0.004353761672973633\n",
      "rho_prof 0.41956377029418945\n",
      "reinitialize_star_cluster 0.10241889953613281\n",
      "snapout 0.009097099304199219\n",
      "initialize_gravity_code 0.19863295555114746\n",
      "TIME UNITS:  1.26226306069 Myr 1000 1000.0 8.94993216129\n",
      "evolve 6.650537967681885\n",
      "evaluate 0.06276822090148926\n",
      "writeout 0.00433802604675293\n",
      "rho_prof 0.35042381286621094\n",
      "reinitialize_star_cluster 0.10130000114440918\n",
      "initialize_gravity_code 0.19402432441711426\n",
      "TIME UNITS:  1.25950467058 Myr 1000 1000.0 8.93688870764\n",
      "evolve 4.5284950733184814\n",
      "evaluate 0.06274986267089844\n",
      "writeout 0.003831148147583008\n",
      "rho_prof 0.41143202781677246\n",
      "reinitialize_star_cluster 0.10177183151245117\n",
      "snapout 0.008883953094482422\n",
      "initialize_gravity_code 0.19938302040100098\n",
      "TIME UNITS:  1.25871317925 Myr 1000 1000.0 8.93314426686\n",
      "evolve 5.360095977783203\n",
      "evaluate 0.06198382377624512\n",
      "writeout 0.0038309097290039062\n",
      "rho_prof 0.35210394859313965\n",
      "reinitialize_star_cluster 0.10397601127624512\n",
      "initialize_gravity_code 0.22701287269592285\n",
      "TIME UNITS:  1.25765324663 Myr 1000 1000.0 8.92812863633\n",
      "evolve 6.24208402633667\n",
      "evaluate 0.05902218818664551\n",
      "writeout 0.0034012794494628906\n",
      "rho_prof 0.3418281078338623\n",
      "reinitialize_star_cluster 0.10357499122619629\n",
      "initialize_gravity_code 0.27283215522766113\n",
      "TIME UNITS:  1.25594880008 Myr 1000 1000.0 8.92006019223\n",
      "evolve 7.376956224441528\n",
      "evaluate 0.06210470199584961\n",
      "writeout 0.004486799240112305\n",
      "rho_prof 0.3529176712036133\n",
      "reinitialize_star_cluster 0.10294890403747559\n",
      "initialize_gravity_code 0.19823694229125977\n",
      "TIME UNITS:  1.25750350554 Myr 1000 1000.0 8.92741994377\n",
      "evolve 7.0229387283325195\n",
      "evaluate 0.06183028221130371\n",
      "writeout 0.004270076751708984\n",
      "rho_prof 0.342008113861084\n",
      "reinitialize_star_cluster 0.10257101058959961\n",
      "snapout 0.008934259414672852\n",
      "initialize_gravity_code 0.2271132469177246\n",
      "TIME UNITS:  1.25746267838 Myr 1000 1000.0 8.92722671266\n",
      "evolve 6.300980806350708\n",
      "evaluate 0.0621638298034668\n",
      "writeout 0.004217863082885742\n",
      "rho_prof 0.3475069999694824\n",
      "reinitialize_star_cluster 0.10098814964294434\n",
      "initialize_gravity_code 0.20572590827941895\n",
      "TIME UNITS:  1.25759758724 Myr 1000 1000.0 8.92786521564\n",
      "evolve 6.636603832244873\n",
      "evaluate 0.06092190742492676\n",
      "writeout 0.004379987716674805\n",
      "rho_prof 0.458209753036499\n",
      "reinitialize_star_cluster 0.10671710968017578\n"
     ]
    }
   ],
   "source": [
    "#Exectute the made to measure algorithm\n",
    "for i in range(0,cluster.number_of_iterations):\n",
    "    if timing: dttime=time.time()\n",
    "    #Initialize a new N-body simulation ever time step. \n",
    "    #In this example I use 1% of the cluster's dynamical time for the integration timeste\n",
    "    cluster.initialize_gravity_code('Hermite', dt=0.01*cluster.tdyn, theta=0.6)\n",
    "    \n",
    "    if timing: print('initialize_gravity_code',time.time()-dttime)\n",
    "    if timing: dttime=time.time()\n",
    "    \n",
    "    #Evolve the model cluster forward for 10% of its dynamical time\n",
    "    cluster.evolve(tend=0.1*cluster.tdyn)\n",
    "    \n",
    "    if timing: print('evolve',time.time()-dttime)\n",
    "    if timing: dttime=time.time()\n",
    "    \n",
    "    #Run the M2M algorithm, which will adjust all of the stellar masses based on kernel function\n",
    "    cluster.evaluate(kernel=None,epsilon=1.,mu=1.,alpha=1.)\n",
    "    \n",
    "    if timing: print('evaluate',time.time()-dttime)\n",
    "    if timing: dttime=time.time()\n",
    "    \n",
    "    #Write profiles and chi^2 to outfile\n",
    "    cluster.writeout()\n",
    "    \n",
    "    if timing: print('writeout',time.time()-dttime)\n",
    "    if timing and doplots: dttime=time.time()\n",
    "        \n",
    "    #Compare the new model density profile to the observed one\n",
    "    if doplots: cluster.rho_prof(filename='%s.png' % str(i).zfill(5))\n",
    "    \n",
    "    if timing and doplots: print('rho_prof',time.time()-dttime)\n",
    "    if timing: dttime=time.time()\n",
    "        \n",
    "    #Centre the star cluster and find determine Nbody conversion scales for next integration\n",
    "    cluster.reinitialize_star_cluster(mmin= mmin, mmax=mmax, mtot=mtot)\n",
    "\n",
    "    if timing: print('reinitialize_star_cluster',time.time()-dttime)\n",
    "    if timing: dttime=time.time()\n",
    "    \n",
    "    if cluster.niteration>=snapfreq:\n",
    "        cluster.snapout()\n",
    "        snapfreq+=snapfreq\n",
    "        \n",
    "        if timing: print('snapout',time.time()-dttime)\n",
    "        \n",
    "cluster.outfile.close()"
   ]
  },
  {
   "cell_type": "code",
   "execution_count": 18,
   "id": "64b74648-233c-4eb9-9bd0-11dd8556a1a9",
   "metadata": {},
   "outputs": [],
   "source": [
    "if doplots: \n",
    "    #Plot initial positions\n",
    "    cluster.xy_plot(filename='xyplotf.png')\n",
    "    #Compare initial density profiles\n",
    "    cluster.rho_prof(filename='rhoplotf.png')\n",
    "    #Compare initial velocity dispersion profiles\n",
    "    if doplots: cluster.sigv_prof(filename='sigplotf.png')"
   ]
  },
  {
   "cell_type": "code",
   "execution_count": null,
   "id": "a7231d31-cfca-4d99-944e-8e980476e35e",
   "metadata": {},
   "outputs": [],
   "source": []
  },
  {
   "cell_type": "code",
   "execution_count": null,
   "id": "ca40d78b-ccbc-47c2-a9b0-d7b7d783eb50",
   "metadata": {},
   "outputs": [],
   "source": []
  }
 ],
 "metadata": {
  "kernelspec": {
   "display_name": "Python 3",
   "language": "python",
   "name": "python3"
  },
  "language_info": {
   "codemirror_mode": {
    "name": "ipython",
    "version": 3
   },
   "file_extension": ".py",
   "mimetype": "text/x-python",
   "name": "python",
   "nbconvert_exporter": "python",
   "pygments_lexer": "ipython3",
   "version": "3.9.1"
  }
 },
 "nbformat": 4,
 "nbformat_minor": 5
}
