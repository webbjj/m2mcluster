{
 "cells": [
  {
   "cell_type": "code",
   "execution_count": 1,
   "id": "9eba4cbb-538f-4b33-9ebf-87bf8f702941",
   "metadata": {},
   "outputs": [],
   "source": [
    "import numpy as np"
   ]
  },
  {
   "cell_type": "code",
   "execution_count": 16,
   "id": "900d24b2-b5c0-4108-af8b-5e2e6396249b",
   "metadata": {},
   "outputs": [],
   "source": [
    "sig=5.0"
   ]
  },
  {
   "cell_type": "code",
   "execution_count": 17,
   "id": "723c2615-d1ca-4c92-ba9d-7aef0cc423d4",
   "metadata": {},
   "outputs": [],
   "source": [
    "vx=np.random.normal(0,sig,10000)\n",
    "vy=np.random.normal(0,sig,10000)\n",
    "vz=np.random.normal(0,sig,10000)"
   ]
  },
  {
   "cell_type": "code",
   "execution_count": 18,
   "id": "bddcce18-fe35-4932-a58d-e858a4697856",
   "metadata": {},
   "outputs": [],
   "source": [
    "v=np.sqrt(vx**2.+vy**2.+vz**2.)"
   ]
  },
  {
   "cell_type": "code",
   "execution_count": 19,
   "id": "9cf4259e-9ac0-4519-a60a-917be1f0b92f",
   "metadata": {},
   "outputs": [
    {
     "data": {
      "text/plain": [
       "(7.97324450715193, 8.660254037844386)"
      ]
     },
     "execution_count": 19,
     "metadata": {},
     "output_type": "execute_result"
    }
   ],
   "source": [
    "np.mean(v),np.sqrt(3.)*sig"
   ]
  },
  {
   "cell_type": "code",
   "execution_count": 20,
   "id": "385ad7ff-3db1-44e3-bb09-17f871a21597",
   "metadata": {},
   "outputs": [
    {
     "data": {
      "text/plain": [
       "3.335416524167809"
      ]
     },
     "execution_count": 20,
     "metadata": {},
     "output_type": "execute_result"
    }
   ],
   "source": [
    "np.std(v)"
   ]
  },
  {
   "cell_type": "code",
   "execution_count": 21,
   "id": "154e5c45-145d-4841-8aab-4d6e55db903d",
   "metadata": {},
   "outputs": [
    {
     "data": {
      "text/plain": [
       "2.886751345948129"
      ]
     },
     "execution_count": 21,
     "metadata": {},
     "output_type": "execute_result"
    }
   ],
   "source": [
    "sig/np.sqrt(3)"
   ]
  },
  {
   "cell_type": "code",
   "execution_count": 22,
   "id": "11e2a37d-d054-4340-a7cf-b26b39188793",
   "metadata": {},
   "outputs": [],
   "source": [
    "vx2=np.random.normal(0,sig,10000)\n",
    "vy2=np.random.normal(0,sig,10000)\n",
    "vz2=np.random.normal(0,sig,10000)"
   ]
  },
  {
   "cell_type": "code",
   "execution_count": null,
   "id": "9c2aa14a-87fa-46f7-91ec-246cd5d77bb0",
   "metadata": {},
   "outputs": [],
   "source": [
    "dv=np.sqrt((vx1-vx2)**2.+(vy1=))"
   ]
  }
 ],
 "metadata": {
  "kernelspec": {
   "display_name": "Python 3",
   "language": "python",
   "name": "python3"
  },
  "language_info": {
   "codemirror_mode": {
    "name": "ipython",
    "version": 3
   },
   "file_extension": ".py",
   "mimetype": "text/x-python",
   "name": "python",
   "nbconvert_exporter": "python",
   "pygments_lexer": "ipython3",
   "version": "3.9.1"
  }
 },
 "nbformat": 4,
 "nbformat_minor": 5
}
